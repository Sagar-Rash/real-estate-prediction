{
 "cells": [
  {
   "cell_type": "markdown",
   "metadata": {},
   "source": [
    "# Real Estate Solution (Regression Models)"
   ]
  },
  {
   "cell_type": "markdown",
   "metadata": {
    "id": "2-Gwity-gHiz"
   },
   "source": [
    "## 1) Data Preparation"
   ]
  },
  {
   "cell_type": "code",
   "execution_count": 1,
   "metadata": {},
   "outputs": [],
   "source": [
    "from src import dataPrep\n",
    "\n",
    "from src import createLinReg\n",
    "from src import createDTree\n",
    "from src import createRdmFrst\n",
    "from src import evalModel\n",
    "from src import modelSaveLoad"
   ]
  },
  {
   "cell_type": "markdown",
   "metadata": {},
   "source": [
    "Preprocessing/Data Prep"
   ]
  },
  {
   "cell_type": "markdown",
   "metadata": {},
   "source": [
    "The following function creates train and test data along with a list of features. \n",
    "\n",
    "You can also see the first and last 5 rows of the original dataset and the shape of the train and test datasets."
   ]
  },
  {
   "cell_type": "code",
   "execution_count": 2,
   "metadata": {},
   "outputs": [
    {
     "name": "stdout",
     "output_type": "stream",
     "text": [
      "Head:\n",
      "    price  year_sold  property_tax  insurance  beds  baths  sqft  year_built  \\\n",
      "0  295850       2013           234         81     1      1   584        2013   \n",
      "1  216500       2006           169         51     1      1   612        1965   \n",
      "2  279900       2012           216         74     1      1   615        1963   \n",
      "3  379900       2005           265         92     1      1   618        2000   \n",
      "4  340000       2002            88         30     1      1   634        1992   \n",
      "\n",
      "   lot_size  basement  popular  recession  property_age  \\\n",
      "0         0         0        0          1             0   \n",
      "1         0         0        0          0            41   \n",
      "2         0         0        0          1            49   \n",
      "3     33541         1        0          0             5   \n",
      "4         0         0        0          0            10   \n",
      "\n",
      "   property_type_Bunglow  property_type_Condo  \n",
      "0                      0                    1  \n",
      "1                      0                    1  \n",
      "2                      0                    1  \n",
      "3                      1                    0  \n",
      "4                      0                    1  \n",
      "\n",
      "\n",
      "Tail:\n",
      "       price  year_sold  property_tax  insurance  beds  baths  sqft  \\\n",
      "1855  760000       2008           881        249     5      5  7842   \n",
      "1856  690000       2015          1553        473     5      6  6501   \n",
      "1857  600000       1999           942        287     5      6  7064   \n",
      "1858  759900       2009           803        245     5      6  7500   \n",
      "1859  735000       2015          1459        444     5      6  7515   \n",
      "\n",
      "      year_built  lot_size  basement  popular  recession  property_age  \\\n",
      "1855        2003    436035         1        0          0             5   \n",
      "1856        1956     23086         1        0          0            59   \n",
      "1857        1995    217800         1        0          0             4   \n",
      "1858        2006      8886         1        0          0             3   \n",
      "1859        1958     10497         1        0          0            57   \n",
      "\n",
      "      property_type_Bunglow  property_type_Condo  \n",
      "1855                      1                    0  \n",
      "1856                      1                    0  \n",
      "1857                      1                    0  \n",
      "1858                      1                    0  \n",
      "1859                      1                    0  \n",
      "\n",
      "\n",
      "Dataframe Shape:\n",
      "(1860, 15)\n",
      "\n",
      "\n",
      "Shape of Split Data:\n",
      "(1488, 14) (1488,) (372, 14) (372,)\n"
     ]
    }
   ],
   "source": [
    "x_train, x_test, y_train, y_test, features = dataPrep.createTrainTest(r\"data\\final_2.csv\", target='price', stratifyBy='property_type_Bunglow',print_vals=True)"
   ]
  },
  {
   "cell_type": "markdown",
   "metadata": {},
   "source": [
    "The following function scales the train and test inputs using MinMaxScaler"
   ]
  },
  {
   "cell_type": "code",
   "execution_count": 3,
   "metadata": {},
   "outputs": [],
   "source": [
    "xtrain_scaled, xtest_scaled = dataPrep.scaleData(x_train, x_test)"
   ]
  },
  {
   "cell_type": "markdown",
   "metadata": {
    "id": "LNMKUIsagHi2"
   },
   "source": [
    "## 2) Linear Regression Model"
   ]
  },
  {
   "cell_type": "markdown",
   "metadata": {},
   "source": [
    "First, a linear regression model will be created and tested using the train and test datasets. \n",
    "\n",
    "The function below will return the model, results (predictions) from the train data, and results from the test data.\n",
    "\n",
    "You can also see the model coefficients, intercept, and number of coefficients."
   ]
  },
  {
   "cell_type": "code",
   "execution_count": 4,
   "metadata": {},
   "outputs": [
    {
     "name": "stdout",
     "output_type": "stream",
     "text": [
      "Model Coefficients:\n",
      "[ 284780.28472304 -152614.94144949 1062105.68299652   22097.26766429\n",
      "   -9134.48409815  111080.95129568   86404.25585759   67851.21562657\n",
      "    8175.54818901    3494.60949825  -51231.60772801  -44107.2257569\n",
      "    8175.548189     -8175.54818901]\n",
      "\n",
      "\n",
      "Model Intercept:\n",
      "4453.78833396011\n",
      "\n",
      "\n",
      "Number of Coefficients:\n",
      "14\n"
     ]
    }
   ],
   "source": [
    "lr_model, lr_train_pred, lr_test_pred = createLinReg.createLinReg(xtrain_scaled, xtest_scaled, y_train, print_vals= True)"
   ]
  },
  {
   "cell_type": "markdown",
   "metadata": {},
   "source": [
    "The Mean Absolute Errors for the train and test data are calculated below using evaluateModel."
   ]
  },
  {
   "cell_type": "code",
   "execution_count": 5,
   "metadata": {},
   "outputs": [
    {
     "name": "stdout",
     "output_type": "stream",
     "text": [
      "Train error is 82443.0020368209\n",
      "Test error is 92308.78999679159\n"
     ]
    }
   ],
   "source": [
    "evalModel.evaluateModel(lr_train_pred, y_train, lr_test_pred, y_test, \"MAE\", print_vals=True)"
   ]
  },
  {
   "cell_type": "code",
   "execution_count": 10,
   "metadata": {},
   "outputs": [
    {
     "name": "stdout",
     "output_type": "stream",
     "text": [
      "Train R-squared score: 0.5157441770685608\n",
      "Test R-squared score: 0.16955059931963967\n"
     ]
    }
   ],
   "source": [
    "evalModel.evaluateModel(lr_train_pred, y_train, lr_test_pred, y_test, \"r2\", print_vals=True)"
   ]
  },
  {
   "cell_type": "code",
   "execution_count": 11,
   "metadata": {},
   "outputs": [
    {
     "name": "stdout",
     "output_type": "stream",
     "text": [
      "Train Root Mean Squared Error (RMSE): 104966.01597490953\n",
      "Test Root Mean Squared Error (RMSE): 141725.27215847574\n"
     ]
    }
   ],
   "source": [
    "evalModel.evaluateModel(lr_train_pred, y_train, lr_test_pred, y_test, \"rmse\", print_vals=True)"
   ]
  },
  {
   "cell_type": "markdown",
   "metadata": {},
   "source": [
    "These values are not very good. Maybe a different model could be used."
   ]
  },
  {
   "cell_type": "markdown",
   "metadata": {
    "id": "qiowj-owgHi3"
   },
   "source": [
    "## 3) Decision Tree Model"
   ]
  },
  {
   "cell_type": "markdown",
   "metadata": {},
   "source": [
    "This decision tree model below was created using the following function and the train and test data. The results are also outputted.\n",
    "\n",
    "Also notice the generated tree plot."
   ]
  },
  {
   "cell_type": "code",
   "execution_count": 28,
   "metadata": {},
   "outputs": [
    {
     "name": "stdout",
     "output_type": "stream",
     "text": [
      "Tree Plot\n"
     ]
    },
    {
     "data": {
      "image/png": "[encoded data removed]",
      "text/plain": [
       "<Figure size 640x480 with 1 Axes>"
      ]
     },
     "metadata": {},
     "output_type": "display_data"
    }
   ],
   "source": [
    "dt_model, dt_train_pred, dt_test_pred = createDTree.createDTree(x_train, y_train, x_test, features, plot_tree=True)"
   ]
  },
  {
   "cell_type": "code",
   "execution_count": 8,
   "metadata": {},
   "outputs": [
    {
     "name": "stdout",
     "output_type": "stream",
     "text": [
      "Train error is 59334.41211435451\n",
      "Test error is 68791.12525572484\n"
     ]
    }
   ],
   "source": [
    "evalModel.evaluateModel(dt_train_pred, y_train, dt_test_pred, y_test, \"mae\", print_vals=True)"
   ]
  },
  {
   "cell_type": "code",
   "execution_count": 12,
   "metadata": {},
   "outputs": [
    {
     "name": "stdout",
     "output_type": "stream",
     "text": [
      "Train R-squared score: 0.7303398303666825\n",
      "Test R-squared score: 0.6639073693415143\n"
     ]
    }
   ],
   "source": [
    "evalModel.evaluateModel(dt_train_pred, y_train, dt_test_pred, y_test, \"r2\", print_vals=True)"
   ]
  },
  {
   "cell_type": "code",
   "execution_count": 13,
   "metadata": {},
   "outputs": [
    {
     "name": "stdout",
     "output_type": "stream",
     "text": [
      "Train Root Mean Squared Error (RMSE): 78328.47831479121\n",
      "Test Root Mean Squared Error (RMSE): 90161.30864574105\n"
     ]
    }
   ],
   "source": [
    "evalModel.evaluateModel(dt_train_pred, y_train, dt_test_pred, y_test, \"rmse\", print_vals=True)"
   ]
  },
  {
   "cell_type": "markdown",
   "metadata": {},
   "source": [
    "These values are better than those of the linear regression model, so this one has become the better choice."
   ]
  },
  {
   "cell_type": "markdown",
   "metadata": {
    "id": "EjN-nxzEgHi4"
   },
   "source": [
    "## 4) Random Forest Model"
   ]
  },
  {
   "cell_type": "markdown",
   "metadata": {},
   "source": [
    "The function below creates a random forest model from the data with some specified parameters/hyperparameters being set.\n",
    "\n",
    "See the feature importances following it."
   ]
  },
  {
   "cell_type": "code",
   "execution_count": 14,
   "metadata": {},
   "outputs": [
    {
     "name": "stdout",
     "output_type": "stream",
     "text": [
      "Feature Importances:\n",
      "[1.88191720e-01 1.83045818e-01 5.93255252e-01 0.00000000e+00\n",
      " 0.00000000e+00 2.82416699e-02 1.27520622e-03 5.46676165e-03\n",
      " 2.20431167e-04 0.00000000e+00 0.00000000e+00 0.00000000e+00\n",
      " 3.03141305e-04 0.00000000e+00]\n"
     ]
    }
   ],
   "source": [
    "rf_model, rf_train_pred, rf_test_pred = createRdmFrst.createRdmFrst(x_train, x_test, y_train, n_est = 200, max_d = 2, max_feat = 10, crit='absolute_error', feat_imp = True)"
   ]
  },
  {
   "cell_type": "code",
   "execution_count": 30,
   "metadata": {},
   "outputs": [
    {
     "name": "stdout",
     "output_type": "stream",
     "text": [
      "Train error is 70319.3981014785\n",
      "Test error is 70555.9864045699\n"
     ]
    }
   ],
   "source": [
    "evalModel.evaluateModel(rf_train_pred, y_train, rf_test_pred, y_test, \"mae\", print_vals=True)"
   ]
  },
  {
   "cell_type": "code",
   "execution_count": 15,
   "metadata": {},
   "outputs": [
    {
     "name": "stdout",
     "output_type": "stream",
     "text": [
      "Train R-squared score: 0.6494430842876426\n",
      "Test R-squared score: 0.6179228860051826\n"
     ]
    }
   ],
   "source": [
    "evalModel.evaluateModel(rf_train_pred, y_train, rf_test_pred, y_test, \"r2\", print_vals=True)"
   ]
  },
  {
   "cell_type": "code",
   "execution_count": 16,
   "metadata": {},
   "outputs": [
    {
     "name": "stdout",
     "output_type": "stream",
     "text": [
      "Train Root Mean Squared Error (RMSE): 89308.03985297304\n",
      "Test Root Mean Squared Error (RMSE): 96131.61179558639\n"
     ]
    }
   ],
   "source": [
    "evalModel.evaluateModel(rf_train_pred, y_train, rf_test_pred, y_test, \"rmse\", print_vals=True)"
   ]
  },
  {
   "cell_type": "markdown",
   "metadata": {},
   "source": [
    "The error values are in between those of the other two models. The cost due to model complexity would not justify using this model, either."
   ]
  },
  {
   "cell_type": "markdown",
   "metadata": {
    "id": "vVZsubYogHi9"
   },
   "source": [
    "## 5) Pickle:\n",
    "\n",
    "* modelSaveLoad uses pickle to save and load the models which were created using this notebook and modules\n",
    "* The default pickleAction is 'save'\n",
    "* We are going to be using the decision tree model"
   ]
  },
  {
   "cell_type": "code",
   "execution_count": 17,
   "metadata": {},
   "outputs": [],
   "source": [
    "modelSaveLoad.pickleModel(r\"models\\lr_RE_Model.pkl\",'wb', lr_model)\n",
    "modelSaveLoad.pickleModel(r\"models\\dt_RE_Model.pkl\",'wb', dt_model)\n",
    "modelSaveLoad.pickleModel(r\"models\\rf_RE_Model.pkl\",'wb', rf_model)"
   ]
  },
  {
   "cell_type": "code",
   "execution_count": 18,
   "metadata": {},
   "outputs": [],
   "source": [
    "RE_Model = modelSaveLoad.pickleModel(r\"models\\dt_RE_Model.pkl\", 'rb', pickleAction='load')"
   ]
  },
  {
   "cell_type": "markdown",
   "metadata": {},
   "source": [
    "These are the feature importances of the Decision tree model:"
   ]
  },
  {
   "cell_type": "code",
   "execution_count": 19,
   "metadata": {},
   "outputs": [
    {
     "data": {
      "text/plain": [
       "array([0.28103656, 0.06309214, 0.6558713 , 0.        , 0.        ,\n",
       "       0.        , 0.        , 0.        , 0.        , 0.        ,\n",
       "       0.        , 0.        , 0.        , 0.        ])"
      ]
     },
     "execution_count": 19,
     "metadata": {},
     "output_type": "execute_result"
    }
   ],
   "source": [
    "RE_Model.feature_importances_"
   ]
  },
  {
   "cell_type": "markdown",
   "metadata": {},
   "source": [
    "Note that most of the importances are 0. This may be an issue."
   ]
  },
  {
   "cell_type": "markdown",
   "metadata": {},
   "source": [
    "## 6) Predictions"
   ]
  },
  {
   "cell_type": "markdown",
   "metadata": {},
   "source": [
    "Use the pickle model to make predictions"
   ]
  },
  {
   "cell_type": "code",
   "execution_count": 20,
   "metadata": {
    "id": "81ZVX-LRgHi9",
    "outputId": "0e7e668b-83dd-4620-e147-5e90e2759788"
   },
   "outputs": [
    {
     "name": "stdout",
     "output_type": "stream",
     "text": [
      "[271213.78695652]\n"
     ]
    },
    {
     "name": "stderr",
     "output_type": "stream",
     "text": [
      "d:\\Users\\User\\anaconda3\\Lib\\site-packages\\sklearn\\utils\\validation.py:2749: UserWarning: X does not have valid feature names, but DecisionTreeRegressor was fitted with feature names\n",
      "  warnings.warn(\n"
     ]
    }
   ],
   "source": [
    "RE_Prediction = modelSaveLoad.predict(RE_Model,[2025, 216, 74, 1 , 1, 618, 2000, 600, 1, 0, 0, 6, 0, 1])"
   ]
  },
  {
   "cell_type": "markdown",
   "metadata": {},
   "source": [
    "You can also make predictions directly from the model:"
   ]
  },
  {
   "cell_type": "code",
   "execution_count": 21,
   "metadata": {},
   "outputs": [
    {
     "name": "stderr",
     "output_type": "stream",
     "text": [
      "d:\\Users\\User\\anaconda3\\Lib\\site-packages\\sklearn\\utils\\validation.py:2749: UserWarning: X does not have valid feature names, but DecisionTreeRegressor was fitted with feature names\n",
      "  warnings.warn(\n"
     ]
    },
    {
     "data": {
      "text/plain": [
       "array([271213.78695652])"
      ]
     },
     "execution_count": 21,
     "metadata": {},
     "output_type": "execute_result"
    }
   ],
   "source": [
    "RE_Model.predict([[2025, 139, 42, 1, 1, 703, 1992, 0, 0, 0, 0, 13, 0, 1]])"
   ]
  },
  {
   "cell_type": "markdown",
   "metadata": {},
   "source": [
    "Note that the prediction results are the same. Maybe we need to visualize the predicted vs. actual values."
   ]
  },
  {
   "cell_type": "code",
   "execution_count": 22,
   "metadata": {},
   "outputs": [],
   "source": [
    "from matplotlib.pyplot import subplots, show"
   ]
  },
  {
   "cell_type": "code",
   "execution_count": 23,
   "metadata": {},
   "outputs": [
    {
     "data": {
      "image/png": "[encoded data removed]",
      "text/plain": [
       "<Figure size 600x400 with 1 Axes>"
      ]
     },
     "metadata": {},
     "output_type": "display_data"
    }
   ],
   "source": [
    "fig, ax = subplots(figsize=(6, 4))\n",
    "ax.scatter(dt_test_pred, y_test)\n",
    "ax.set_xlabel('Predicted')\n",
    "ax.set_ylabel('Actual')\n",
    "show()"
   ]
  },
  {
   "cell_type": "markdown",
   "metadata": {},
   "source": [
    "The decision tree model determined the values using branching, making the target like a polynominal categorical variable."
   ]
  }
 ],
 "metadata": {
  "anaconda-cloud": {},
  "colab": {
   "provenance": []
  },
  "kernelspec": {
   "display_name": "base",
   "language": "python",
   "name": "python3"
  },
  "language_info": {
   "codemirror_mode": {
    "name": "ipython",
    "version": 3
   },
   "file_extension": ".py",
   "mimetype": "text/x-python",
   "name": "python",
   "nbconvert_exporter": "python",
   "pygments_lexer": "ipython3",
   "version": "3.12.7"
  }
 },
 "nbformat": 4,
 "nbformat_minor": 4
}
